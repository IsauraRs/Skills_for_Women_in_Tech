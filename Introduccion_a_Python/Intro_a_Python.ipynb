{
 "cells": [
  {
   "cell_type": "markdown",
   "id": "characteristic-geneva",
   "metadata": {},
   "source": [
    "# Diccionarios\n",
    "\n",
    "\n",
    "Son colecciones de objetos, difieren en las listas principalmente en la forma de acceder a los elementos,se  accede a los elementos del diccionario mediante llaves o claves (pares clave-valor)"
   ]
  },
  {
   "cell_type": "code",
   "execution_count": 1,
   "id": "standing-supplier",
   "metadata": {},
   "outputs": [],
   "source": [
    "student = {\n",
    "    \"name\" : \"Jesús López\" ,\n",
    "    \"email\" : \"algo@gmail.com\"\n",
    "}"
   ]
  },
  {
   "cell_type": "code",
   "execution_count": 2,
   "id": "meaning-night",
   "metadata": {},
   "outputs": [
    {
     "data": {
      "text/plain": [
       "'algo@gmail.com'"
      ]
     },
     "execution_count": 2,
     "metadata": {},
     "output_type": "execute_result"
    }
   ],
   "source": [
    "# Accediendo a un elemento\n",
    "student['email']"
   ]
  },
  {
   "cell_type": "code",
   "execution_count": 3,
   "id": "alike-inclusion",
   "metadata": {},
   "outputs": [],
   "source": [
    "# Añadiendo un nuevo elemento\n",
    "student['age'] = 23"
   ]
  },
  {
   "cell_type": "code",
   "execution_count": 4,
   "id": "committed-camcorder",
   "metadata": {},
   "outputs": [
    {
     "name": "stdout",
     "output_type": "stream",
     "text": [
      "{'name': 'Jesús López', 'email': 'algo@gmail.com', 'age': 23}\n"
     ]
    }
   ],
   "source": [
    "print(student)"
   ]
  },
  {
   "cell_type": "code",
   "execution_count": 5,
   "id": "opened-nothing",
   "metadata": {},
   "outputs": [
    {
     "data": {
      "text/plain": [
       "dict_keys(['name', 'email', 'age'])"
      ]
     },
     "execution_count": 5,
     "metadata": {},
     "output_type": "execute_result"
    }
   ],
   "source": [
    "# Accediendo a las llaves\n",
    "\n",
    "student.keys()"
   ]
  },
  {
   "cell_type": "code",
   "execution_count": 6,
   "id": "generic-public",
   "metadata": {},
   "outputs": [
    {
     "name": "stdout",
     "output_type": "stream",
     "text": [
      "Jesús López\n",
      "algo@gmail.com\n",
      "23\n"
     ]
    }
   ],
   "source": [
    "for key in student.keys():\n",
    "    \n",
    "    print(student[key])"
   ]
  },
  {
   "cell_type": "code",
   "execution_count": 7,
   "id": "incorporate-research",
   "metadata": {},
   "outputs": [
    {
     "data": {
      "text/plain": [
       "dict_values(['Jesús López', 'algo@gmail.com', 23])"
      ]
     },
     "execution_count": 7,
     "metadata": {},
     "output_type": "execute_result"
    }
   ],
   "source": [
    "# Accediendo a los valores\n",
    "student.values()"
   ]
  },
  {
   "cell_type": "code",
   "execution_count": 8,
   "id": "atmospheric-limit",
   "metadata": {},
   "outputs": [
    {
     "data": {
      "text/plain": [
       "dict_items([('name', 'Jesús López'), ('email', 'algo@gmail.com'), ('age', 23)])"
      ]
     },
     "execution_count": 8,
     "metadata": {},
     "output_type": "execute_result"
    }
   ],
   "source": [
    "student.items()"
   ]
  },
  {
   "cell_type": "code",
   "execution_count": 9,
   "id": "amber-damage",
   "metadata": {},
   "outputs": [
    {
     "name": "stdout",
     "output_type": "stream",
     "text": [
      "name Jesús López\n",
      "email algo@gmail.com\n",
      "age 23\n"
     ]
    }
   ],
   "source": [
    "for key , value in student.items():\n",
    "    \n",
    "    print(key , value)"
   ]
  },
  {
   "cell_type": "markdown",
   "id": "stunning-density",
   "metadata": {},
   "source": [
    "# Funciones\n",
    "\n",
    "Permiten empaquetar código que puede ser invocado a través de una línea con el nombre de la función.\n",
    "\n",
    "La estructura básica de una función es:\n"
   ]
  },
  {
   "cell_type": "code",
   "execution_count": null,
   "id": "anonymous-static",
   "metadata": {},
   "outputs": [],
   "source": [
    "def function_name(arguments):\n",
    "    \n",
    "    #Code\n",
    "    \n",
    "    return something"
   ]
  },
  {
   "cell_type": "code",
   "execution_count": 10,
   "id": "engaged-seafood",
   "metadata": {},
   "outputs": [],
   "source": [
    "# Segunda ley de Newton\n",
    "def F(m , a):\n",
    "    \n",
    "    fuerza = m * a\n",
    "    \n",
    "    return fuerza"
   ]
  },
  {
   "cell_type": "code",
   "execution_count": 11,
   "id": "based-breast",
   "metadata": {},
   "outputs": [
    {
     "name": "stdout",
     "output_type": "stream",
     "text": [
      "180 [N]\n"
     ]
    }
   ],
   "source": [
    "print(f\"{F(60 , 3)} [N]\")"
   ]
  },
  {
   "cell_type": "code",
   "execution_count": 13,
   "id": "searching-controversy",
   "metadata": {},
   "outputs": [
    {
     "name": "stdout",
     "output_type": "stream",
     "text": [
      "686.7 [N]\n"
     ]
    }
   ],
   "source": [
    "print(f\"{F(70 , 9.81)} [N]\")"
   ]
  },
  {
   "cell_type": "markdown",
   "id": "electronic-palestinian",
   "metadata": {},
   "source": [
    "### Ejemplo 1\n",
    "\n",
    "CalcularMaxMin: recibe una lista de enteros y devuelve el máximo y el mínimo de los números guardados\n",
    "\n",
    "\n",
    "Parámetros de entrada: lista de enteros\n",
    "\n",
    "\n",
    "Valores de salida: valor máximo y mínimo"
   ]
  },
  {
   "cell_type": "code",
   "execution_count": 1,
   "id": "cardiovascular-tolerance",
   "metadata": {},
   "outputs": [
    {
     "name": "stdout",
     "output_type": "stream",
     "text": [
      "El valor máximo es:  91\n",
      "El valor mínimo es:  6\n"
     ]
    }
   ],
   "source": [
    "import random \n",
    "\n",
    "def CalcularMaxMin(lista):\n",
    "    \n",
    "    return(max(lista) , min(lista))\n",
    "\n",
    "numeros = []\n",
    "\n",
    "for i in range(10):\n",
    "\n",
    "    numeros.append(random.randint(1 , 101))\n",
    "\n",
    "vmax , vmin = CalcularMaxMin(numeros)\n",
    "\n",
    "print(\"El valor máximo es: \" , vmax)\n",
    "print(\"El valor mínimo es: \" , vmin)\n"
   ]
  },
  {
   "cell_type": "markdown",
   "id": "ecological-experience",
   "metadata": {},
   "source": [
    "### Ejemplo 2\n",
    "\n",
    "Calcular área del perímetro: recibe el radio de una circunferencia y devuélve el área y el perímetro.\n",
    "\n",
    " \n",
    "Parámetros de entrada: radio (real)\n",
    "\n",
    "\n",
    "Valores de salida: área y perímetro (real)"
   ]
  },
  {
   "cell_type": "code",
   "execution_count": 2,
   "id": "functional-netherlands",
   "metadata": {},
   "outputs": [
    {
     "name": "stdout",
     "output_type": "stream",
     "text": [
      "Introduce el radio: 3\n",
      "Área:  28.274333882308138\n",
      "Perímetro:  18.84955592153876\n"
     ]
    }
   ],
   "source": [
    "import math\n",
    "\n",
    "def CalcularAreaPerimetro(radio):\n",
    "    \n",
    "    area = math.pi * radio ** 2\n",
    "    \n",
    "    perimetro = 2 * math.pi * radio\n",
    "    \n",
    "    return area , perimetro\n",
    "\n",
    "radio = float(input(\"Introduce el radio: \"))\n",
    "\n",
    "area , perimetro = CalcularAreaPerimetro(radio)\n",
    "\n",
    "print(\"Área: \" , area)\n",
    "print(\"Perímetro: \" , perimetro)"
   ]
  },
  {
   "cell_type": "markdown",
   "id": "intelligent-correction",
   "metadata": {},
   "source": [
    "### Ejemplo 3\n",
    "\n",
    "Función centrar: recibe una cadena y la imprime centrada en la pantalla"
   ]
  },
  {
   "cell_type": "code",
   "execution_count": 4,
   "id": "built-cleaner",
   "metadata": {},
   "outputs": [
    {
     "name": "stdout",
     "output_type": "stream",
     "text": [
      "                                    HackWomen\n",
      "                                    =========\n",
      "                             Skills for women in tech\n",
      "                             ========================\n"
     ]
    }
   ],
   "source": [
    "def centrar(cadena):\n",
    "    \n",
    "    print(\" \" * int(40 - (len(cadena) / 2)) , cadena)\n",
    "    print(\" \" * int(40 - (len(cadena) / 2)) , \"=\" * len(cadena))\n",
    "    \n",
    "mensaje1 = \"HackWomen\"\n",
    "\n",
    "centrar(mensaje1)\n",
    "\n",
    "mensaje2 = \"Skills for women in tech\"\n",
    "\n",
    "centrar(mensaje2)"
   ]
  },
  {
   "cell_type": "markdown",
   "id": "abstract-isolation",
   "metadata": {},
   "source": [
    "### Ejemplo 4\n",
    "\n",
    "Función convertir a segundos: recibe una cantidad de horas, minutos y segundos y calcula a cuántos segundos corresponde"
   ]
  },
  {
   "cell_type": "code",
   "execution_count": 5,
   "id": "later-insured",
   "metadata": {},
   "outputs": [
    {
     "name": "stdout",
     "output_type": "stream",
     "text": [
      "1. Convertir a segundos\n",
      "2. Convertir a horas, minutos y segundos\n",
      "3. Salir\n",
      "2\n",
      "Segundos: 23\n",
      "Corresponde a  0 : 0 : 23 :\n",
      "1. Convertir a segundos\n",
      "2. Convertir a horas, minutos y segundos\n",
      "3. Salir\n",
      "3\n"
     ]
    }
   ],
   "source": [
    "def Convertir_a_Segundos(h, m, s):\n",
    "    \n",
    "    return h * 3600 + m * 60 + s\n",
    "\n",
    "def Convertir_a_HMS(sec):\n",
    "    \n",
    "    h = sec // 3600\n",
    "    sec = sec - h * 3600\n",
    "    m = sec // 60\n",
    "    sec = sec - m * 60\n",
    "    \n",
    "    s = sec\n",
    "    \n",
    "    return h , m , s\n",
    "\n",
    "while True:\n",
    "    \n",
    "    print(\"1. Convertir a segundos\")\n",
    "    print(\"2. Convertir a horas, minutos y segundos\")\n",
    "    print(\"3. Salir\")\n",
    "    \n",
    "    opcion = int(input())\n",
    "    \n",
    "    if opcion == 1:\n",
    "        \n",
    "        hor = int(input(\"Horas: \"))\n",
    "        mins = int(input(\"Minutos: \"))\n",
    "        secs = int(input(\"Segundos: \"))\n",
    "        \n",
    "        print(\"Corresponde a: \", Convertir_a_Segundos(hor , mins , secs) , \"Segundos\")\n",
    "        \n",
    "    elif opcion == 2:\n",
    "        \n",
    "        secs = int(input(\"Segundos: \"))\n",
    "        hor , mins , secs = Convertir_a_HMS(secs)\n",
    "        \n",
    "        print(\"Corresponde a \" , hor, \":\" , mins, \":\" , secs , \":\")\n",
    "        \n",
    "    elif opcion == 3:\n",
    "        \n",
    "        break\n",
    "    \n",
    "    else:\n",
    "        \n",
    "        print(\"Opción incorrecta\")"
   ]
  },
  {
   "cell_type": "markdown",
   "id": "little-vermont",
   "metadata": {},
   "source": [
    "### Ejemplo 5\n",
    " \n",
    "Función validar fecha: recibe un día, mes y año correspondiente a una fecha y devuelve si la fecha es correcta o no. \n",
    "\n",
    "Simplemente miramos si el día indicado es mayor que 1 y menor que los días del mes. Si introducimos un mes incorrecto, la función DiaDelMes devuelve 0, por lo tanto, la fecha será incorrecta. \n",
    "\n",
    "Parámetros de entrada: día, mes y año\n",
    "\n",
    "Dato devuelto: valor lógico indicando si es correcta (verdadero) o no (falso)"
   ]
  },
  {
   "cell_type": "code",
   "execution_count": 1,
   "id": "focal-automation",
   "metadata": {},
   "outputs": [
    {
     "name": "stdout",
     "output_type": "stream",
     "text": [
      "Ingresa el día: 28\n",
      "Ingresa el mes: 2\n",
      "Ingresa el año: 1994\n",
      "Fecha correcta\n"
     ]
    }
   ],
   "source": [
    "def DiaDelMes(d , m , a):\n",
    "        \n",
    "    if (m == 1 or m == 3 or m == 5 or m == 7 or m == 8 or m == 10 or m == 12) and (d >= 1 and d <=31):\n",
    "\n",
    "        print(\"Fecha correcta\")\n",
    "        return True\n",
    "\n",
    "    elif (m == 4 or m == 6 or m == 9 or m ==11) and (d >=1 and d <=30):\n",
    "        \n",
    "        print(\"Fecha correcta\")\n",
    "        return True\n",
    "    \n",
    "    elif m == 2 and (d >=1 and d <= 29):\n",
    "        \n",
    "        print(\"Fecha correcta\")\n",
    "        return True\n",
    "\n",
    "    else:\n",
    "\n",
    "        print(\"Fecha incorrecta\")\n",
    "        return False\n",
    "\n",
    "d = int(input(\"Ingresa el día: \"))\n",
    "m = int(input(\"Ingresa el mes: \"))\n",
    "a = int(input(\"Ingresa el año: \"))\n",
    "\n",
    "fecha = DiaDelMes(d , m , a)\n",
    "    "
   ]
  },
  {
   "cell_type": "code",
   "execution_count": 2,
   "id": "spectacular-acoustic",
   "metadata": {},
   "outputs": [
    {
     "name": "stdout",
     "output_type": "stream",
     "text": [
      "Ingresa el día: 31\n",
      "Ingresa el mes: 4\n",
      "Ingresa el año: 1995\n",
      "Fecha incorrecta\n"
     ]
    }
   ],
   "source": [
    "d = int(input(\"Ingresa el día: \"))\n",
    "m = int(input(\"Ingresa el mes: \"))\n",
    "a = int(input(\"Ingresa el año: \"))\n",
    "\n",
    "fecha = DiaDelMes(d , m , a)\n",
    "    "
   ]
  },
  {
   "cell_type": "markdown",
   "id": "committed-thirty",
   "metadata": {},
   "source": [
    "¡A resolver el reto!\n",
    "\n",
    "Vamos a prodecer a crear una lista de diccionarios, esto es, un directorio de estudiantes de SKILLS FOR WOMEN IN TECH que participarán en una edición en línea.\n",
    "\n",
    "\n",
    "Cada estudiante debe tener los siguientes atributos:\n",
    "\n",
    "    Nombre\n",
    "    Edad\n",
    "    Temas\n",
    "    Menores de edad\n",
    "    \n",
    "\n",
    "Puedes asignar los datos a mano o utilizar funciones aleatorias para llenar los campos."
   ]
  },
  {
   "cell_type": "code",
   "execution_count": 27,
   "id": "smooth-basket",
   "metadata": {},
   "outputs": [],
   "source": [
    "def students_class():\n",
    "    \n",
    "    number_students = int(input(\"¿Cuántos estudiantes desea agregar? \"))\n",
    "    \n",
    "    d = {}\n",
    "    \n",
    "    students_sfwt = []\n",
    "    \n",
    "\n",
    "    for i in range(number_students):\n",
    "        \n",
    "        nombre = input(\"Nombre del estudiante: \")\n",
    "        edad = int(input(\"Edad: \"))\n",
    "        temas = input(\"Temas: \")\n",
    "        menores_de_edad = input(\"Menores de edad: \")\n",
    "        \n",
    "        dict_2 = {\"nombre\" : nombre , \"edad\" : edad , \"temas\" : temas , \"menor\" : menores_de_edad}\n",
    "        students_sfwt.append(dict_2)\n",
    "    \n",
    "        \n",
    "    print(\"lista: \" , students_sfwt)\n",
    "        "
   ]
  },
  {
   "cell_type": "code",
   "execution_count": 28,
   "id": "driving-armenia",
   "metadata": {},
   "outputs": [
    {
     "name": "stdout",
     "output_type": "stream",
     "text": [
      "¿Cuántos estudiantes desea agregar? 2\n",
      "Nombre del estudiante: James\n",
      "Edad: 16\n",
      "Temas: Programación\n",
      "Menores de edad: Sí\n",
      "Nombre del estudiante: Bond\n",
      "Edad: 20\n",
      "Temas: Desarrollo web\n",
      "Menores de edad: No\n",
      "lista:  [{'nombre': 'James', 'edad': 16, 'temas': 'Programación', 'menor': 'Sí'}, {'nombre': 'Bond', 'edad': 20, 'temas': 'Desarrollo web', 'menor': 'No'}]\n"
     ]
    }
   ],
   "source": [
    "students_class()"
   ]
  },
  {
   "cell_type": "code",
   "execution_count": null,
   "id": "linear-advance",
   "metadata": {},
   "outputs": [],
   "source": []
  }
 ],
 "metadata": {
  "kernelspec": {
   "display_name": "Python 3",
   "language": "python",
   "name": "python3"
  },
  "language_info": {
   "codemirror_mode": {
    "name": "ipython",
    "version": 3
   },
   "file_extension": ".py",
   "mimetype": "text/x-python",
   "name": "python",
   "nbconvert_exporter": "python",
   "pygments_lexer": "ipython3",
   "version": "3.8.10"
  }
 },
 "nbformat": 4,
 "nbformat_minor": 5
}
